{
 "cells": [
  {
   "cell_type": "code",
   "execution_count": 1,
   "metadata": {},
   "outputs": [],
   "source": [
    "from Bio import SeqIO"
   ]
  },
  {
   "cell_type": "code",
   "execution_count": 3,
   "metadata": {},
   "outputs": [],
   "source": [
    "#parse out fasta file from sample 1\n",
    "sample1 = SeqIO.parse((\"trimmed-US1R_S1_L001_R1_001.fna\"),'fasta')\n",
    "seq_ids_1 = []\n",
    "seq_list_1 = []\n",
    "for seq_record in sample1:\n",
    "    seq_ids_1.append(seq_record.id)\n",
    "    seq_list_1.append(str(seq_record.seq))\n",
    "#parse out fasta file from sample 2\n",
    "sample2 = SeqIO.parse((\"trimmed-US1R_S1_L001_R2_001.fna\"),'fasta')\n",
    "seq_ids_2 = []\n",
    "seq_list_2 = []\n",
    "for seq_record in sample2:\n",
    "    seq_ids_2.append(seq_record.id)\n",
    "    seq_list_2.append(str(seq_record.seq))"
   ]
  },
  {
   "cell_type": "code",
   "execution_count": null,
   "metadata": {},
   "outputs": [],
   "source": []
  }
 ],
 "metadata": {
  "kernelspec": {
   "display_name": "Python 3",
   "language": "python",
   "name": "python3"
  },
  "language_info": {
   "codemirror_mode": {
    "name": "ipython",
    "version": 3
   },
   "file_extension": ".py",
   "mimetype": "text/x-python",
   "name": "python",
   "nbconvert_exporter": "python",
   "pygments_lexer": "ipython3",
   "version": "3.7.3"
  }
 },
 "nbformat": 4,
 "nbformat_minor": 2
}
